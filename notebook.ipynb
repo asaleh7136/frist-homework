{
 "cells": [
  {
   "cell_type": "markdown",
   "id": "ac1f74c8-5e0a-42ae-bc72-096d3e4a5659",
   "metadata": {},
   "source": [
    "## notebook"
   ]
  },
  {
   "cell_type": "markdown",
   "id": "bcf655a8-2d00-46a6-b59f-d3df7379ad78",
   "metadata": {},
   "source": [
    "## my frist homework"
   ]
  },
  {
   "cell_type": "markdown",
   "id": "d9b2daca-142c-4506-a8ff-e525c317962a",
   "metadata": {},
   "source": [
    "## list data science languages:\n",
    "-Python\n",
    "-R\n",
    "-SQL\n",
    "#anther languages:\n",
    "-Java\n",
    "-C+\n",
    "-Scala\n",
    "-Julia"
   ]
  },
  {
   "cell_type": "markdown",
   "id": "a7ab89ec-23b9-4943-b6e1-08cdee993047",
   "metadata": {},
   "source": [
    "#list data science libraries\n",
    "-Pandas\n",
    "-NumPy\n",
    "-Matplotlib\n",
    "-Seaborn\n",
    "-Scikit-Learn"
   ]
  },
  {
   "cell_type": "markdown",
   "id": "259a6d3b-a5ff-464d-8482-400686d09154",
   "metadata": {},
   "source": [
    "## Data Science Tools\n",
    "\n",
    "| Tool                        | Description                                                   |\n",
    "|-----------------------------|---------------------------------------------------------------|\n",
    "| MySQL and PostgreSQL         | Open-source relational database management systems (RDBMS)    |\n",
    "| IBM Db2 and SQL Server       | Commercial relational database management systems (RDBMS)     |\n",
    "| MongoDB and Apache Cassandra | NoSQL database examples                                        |\n",
    "| Apache Hadoop and Spark      | Tools for big data analytics                                  |\n"
   ]
  },
  {
   "cell_type": "markdown",
   "id": "c1241acd-5024-4ea1-a492-d48f7542b05b",
   "metadata": {},
   "source": [
    "## Arithmetic Expression Examples\n",
    "In data science, arithmetic expressions are used to perform mathematical operations like addition and multiplication.\n"
   ]
  },
  {
   "cell_type": "code",
   "execution_count": 6,
   "id": "a8c53c5e-fd41-45af-b494-13e093d6315e",
   "metadata": {},
   "outputs": [
    {
     "name": "stdout",
     "output_type": "stream",
     "text": [
      "12+21= 33\n",
      "12x21= 252\n"
     ]
    }
   ],
   "source": [
    "a = 12\n",
    "b = 21\n",
    "c = 12+21\n",
    "d = 12*21\n",
    "print(\"12+21=\", c)\n",
    "print(\"12x21=\", d)"
   ]
  },
  {
   "cell_type": "code",
   "execution_count": 12,
   "id": "c4e8201b-0436-4e39-b868-ecbefeae622e",
   "metadata": {},
   "outputs": [
    {
     "name": "stdout",
     "output_type": "stream",
     "text": [
      "360 minutes = 6.0 hours\n"
     ]
    }
   ],
   "source": [
    "m=360\n",
    "print(f\"{m} minutes = {m/60} hours\")"
   ]
  },
  {
   "cell_type": "markdown",
   "id": "d7a3d3d5-65e2-4376-8a4f-48b93dd712f7",
   "metadata": {},
   "source": [
    "# list Objectives\n",
    "- Learn about programming languages used in data science.\n",
    "- Understand libraries and tools used for data science tasks.\n",
    "- Implement basic arithmetic operations in Python.\n"
   ]
  },
  {
   "cell_type": "markdown",
   "id": "805395c8-2872-4d1a-a5ff-5b788b4b745b",
   "metadata": {},
   "source": [
    "# Author’s name\n",
    "- Abdullah ALHAMOUDI"
   ]
  }
 ],
 "metadata": {
  "kernelspec": {
   "display_name": "Python 3 (ipykernel)",
   "language": "python",
   "name": "python3"
  },
  "language_info": {
   "codemirror_mode": {
    "name": "ipython",
    "version": 3
   },
   "file_extension": ".py",
   "mimetype": "text/x-python",
   "name": "python",
   "nbconvert_exporter": "python",
   "pygments_lexer": "ipython3",
   "version": "3.12.3"
  }
 },
 "nbformat": 4,
 "nbformat_minor": 5
}
