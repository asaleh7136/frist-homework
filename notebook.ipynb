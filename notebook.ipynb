{
 "cells": [
  {
   "cell_type": "markdown",
   "id": "ac1f74c8-5e0a-42ae-bc72-096d3e4a5659",
   "metadata": {
    "jp-MarkdownHeadingCollapsed": true
   },
   "source": [
    "# notebook"
   ]
  },
  {
   "cell_type": "markdown",
   "id": "bcf655a8-2d00-46a6-b59f-d3df7379ad78",
   "metadata": {},
   "source": [
    "# My first homework\n",
    "\n",
    "This notebook contains my solutions for the final assignment.\n"
   ]
  },
  {
   "cell_type": "markdown",
   "id": "d9b2daca-142c-4506-a8ff-e525c317962a",
   "metadata": {},
   "source": [
    "## Some of the popular languages that Data Scientists use are:\n",
    "\n",
    "1. Python\n",
    "2. R\n",
    "3. SQL\n",
    "\n",
    "## Other languages:\n",
    "4. Java\n",
    "5. C++\n",
    "6. Scala\n",
    "7. Julia\n"
   ]
  },
  {
   "cell_type": "markdown",
   "id": "a7ab89ec-23b9-4943-b6e1-08cdee993047",
   "metadata": {
    "jp-MarkdownHeadingCollapsed": true
   },
   "source": [
    "## Some of the commonly used libraries used by Data Scientists include:\n",
    "\n",
    "1. Pandas\n",
    "2. NumPy\n",
    "3. Matplotlib\n",
    "4. Seaborn\n",
    "5. Scikit-learn\n"
   ]
  },
  {
   "cell_type": "markdown",
   "id": "259a6d3b-a5ff-464d-8482-400686d09154",
   "metadata": {},
   "source": [
    "## Data Science Tools\n",
    "\n",
    "| Tool            |\n",
    "|------------------|\n",
    "| MySQL           |\n",
    "| PostgreSQL      |\n",
    "| MongoDB         |\n",
    "| Apache Hadoop   |\n",
    "| Apache Spark    |\n"
   ]
  },
  {
   "cell_type": "markdown",
   "id": "c1241acd-5024-4ea1-a492-d48f7542b05b",
   "metadata": {},
   "source": [
    "### Arithmetic Expression Examples\n",
    "\n",
    "In data science, arithmetic expressions are used to perform mathematical operations like addition and multiplication.\n"
   ]
  },
  {
   "cell_type": "code",
   "execution_count": 1,
   "id": "a8c53c5e-fd41-45af-b494-13e093d6315e",
   "metadata": {},
   "outputs": [
    {
     "name": "stdout",
     "output_type": "stream",
     "text": [
      "12 + 21 = 33\n",
      "12 x 21 = 252\n"
     ]
    }
   ],
   "source": [
    "# Adding and multiplying two numbers\n",
    "a = 12\n",
    "b = 21\n",
    "c = a + b  # Addition\n",
    "d = a * b  # Multiplication\n",
    "\n",
    "# Displaying the results\n",
    "print(\"12 + 21 =\", c)\n",
    "print(\"12 x 21 =\", d)\n"
   ]
  },
  {
   "cell_type": "code",
   "execution_count": 3,
   "id": "c4e8201b-0436-4e39-b868-ecbefeae622e",
   "metadata": {},
   "outputs": [
    {
     "name": "stdout",
     "output_type": "stream",
     "text": [
      "360 minutes = 6.0 hours\n"
     ]
    }
   ],
   "source": [
    "# Converting minutes to hours\n",
    "m = 360\n",
    "print(f\"{m} minutes = {m / 60} hours\")\n"
   ]
  },
  {
   "cell_type": "markdown",
   "id": "d7a3d3d5-65e2-4376-8a4f-48b93dd712f7",
   "metadata": {},
   "source": [
    "**Objectives**\n",
    "\n",
    "- Learn about programming languages used in data science.\n",
    "- Understand libraries and tools used for data science tasks.\n",
    "- Implement basic arithmetic operations in Python.\n"
   ]
  },
  {
   "cell_type": "markdown",
   "id": "805395c8-2872-4d1a-a5ff-5b788b4b745b",
   "metadata": {},
   "source": [
    "## Author\n",
    "\n",
    "Abdullah ALHAMOUDI\n"
   ]
  }
 ],
 "metadata": {
  "kernelspec": {
   "display_name": "Python 3 (ipykernel)",
   "language": "python",
   "name": "python3"
  },
  "language_info": {
   "codemirror_mode": {
    "name": "ipython",
    "version": 3
   },
   "file_extension": ".py",
   "mimetype": "text/x-python",
   "name": "python",
   "nbconvert_exporter": "python",
   "pygments_lexer": "ipython3",
   "version": "3.12.3"
  }
 },
 "nbformat": 4,
 "nbformat_minor": 5
}
